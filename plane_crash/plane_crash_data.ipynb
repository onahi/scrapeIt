{
 "cells": [
  {
   "cell_type": "code",
   "execution_count": 1,
   "id": "5a4cbdd1",
   "metadata": {},
   "outputs": [],
   "source": [
    "from bs4 import BeautifulSoup\n",
    "import requests\n",
    "\n",
    "import pandas as pd"
   ]
  },
  {
   "cell_type": "code",
   "execution_count": 6,
   "id": "ab18efbc",
   "metadata": {},
   "outputs": [
    {
     "data": {
      "text/plain": [
       "200"
      ]
     },
     "execution_count": 6,
     "metadata": {},
     "output_type": "execute_result"
    }
   ],
   "source": [
    "url = \"https://en.wikipedia.org/wiki/List_of_accidents_and_incidents_involving_commercial_aircraft\"\n",
    "open_url = requests.get(url)\n",
    "open_url.status_code"
   ]
  },
  {
   "cell_type": "code",
   "execution_count": 17,
   "id": "a7f3e462",
   "metadata": {},
   "outputs": [
    {
     "name": "stdout",
     "output_type": "stream",
     "text": [
      "1919[edit]\n",
      "1920[edit]\n",
      "1922[edit]\n",
      "1923[edit]\n",
      "1924[edit]\n",
      "1926[edit]\n",
      "1927[edit]\n",
      "1928[edit]\n",
      "1929[edit]\n",
      "1930[edit]\n",
      "1931[edit]\n",
      "1933[edit]\n",
      "1934[edit]\n",
      "1935[edit]\n",
      "1936[edit]\n",
      "1937[edit]\n",
      "1938[edit]\n",
      "1939[edit]\n",
      "1940[edit]\n",
      "1941[edit]\n",
      "1942[edit]\n",
      "1943[edit]\n",
      "1944[edit]\n",
      "1945[edit]\n",
      "1946[edit]\n",
      "1947[edit]\n",
      "1948[edit]\n",
      "1949[edit]\n",
      "1950[edit]\n",
      "1951[edit]\n",
      "1952[edit]\n",
      "1953[edit]\n",
      "1954[edit]\n",
      "1955[edit]\n",
      "1956[edit]\n",
      "1957[edit]\n",
      "1958[edit]\n",
      "1959[edit]\n",
      "1960[edit]\n",
      "1961[edit]\n",
      "1962[edit]\n",
      "1963[edit]\n",
      "1964[edit]\n",
      "1965[edit]\n",
      "1966[edit]\n",
      "1967[edit]\n",
      "1968[edit]\n",
      "1969[edit]\n",
      "1970[edit]\n",
      "1971[edit]\n",
      "1972[edit]\n",
      "1973[edit]\n",
      "1974[edit]\n",
      "1975[edit]\n",
      "1976[edit]\n",
      "1977[edit]\n",
      "1978[edit]\n",
      "1979[edit]\n",
      "1980[edit]\n",
      "1981[edit]\n",
      "1982[edit]\n",
      "1983[edit]\n",
      "1984[edit]\n",
      "1985[edit]\n",
      "1986[edit]\n",
      "1987[edit]\n",
      "1988[edit]\n",
      "1989[edit]\n",
      "1990[edit]\n",
      "1991[edit]\n",
      "1992[edit]\n",
      "1993[edit]\n",
      "1994[edit]\n",
      "1995[edit]\n",
      "1996[edit]\n",
      "1997[edit]\n",
      "1998[edit]\n",
      "1999[edit]\n",
      "2000[edit]\n",
      "2001[edit]\n",
      "2002[edit]\n",
      "2003[edit]\n",
      "2004[edit]\n",
      "2005[edit]\n",
      "2006[edit]\n",
      "2007[edit]\n",
      "2008[edit]\n",
      "2009[edit]\n",
      "2010[edit]\n",
      "2011[edit]\n",
      "2012[edit]\n",
      "2013[edit]\n",
      "2014[edit]\n",
      "2015[edit]\n",
      "2016[edit]\n",
      "2017[edit]\n",
      "2018[edit]\n",
      "2019[edit]\n",
      "2020[edit]\n",
      "2021[edit]\n",
      "2022[edit]\n",
      "2023[edit]\n"
     ]
    }
   ],
   "source": [
    "soup = BeautifulSoup(open_url.content, 'html.parser')\n",
    "for year in soup.select(\"h3\"):\n",
    "    print(year.getText())"
   ]
  },
  {
   "cell_type": "code",
   "execution_count": null,
   "id": "f5e4b363",
   "metadata": {},
   "outputs": [],
   "source": []
  }
 ],
 "metadata": {
  "kernelspec": {
   "display_name": "Python 3 (ipykernel)",
   "language": "python",
   "name": "python3"
  },
  "language_info": {
   "codemirror_mode": {
    "name": "ipython",
    "version": 3
   },
   "file_extension": ".py",
   "mimetype": "text/x-python",
   "name": "python",
   "nbconvert_exporter": "python",
   "pygments_lexer": "ipython3",
   "version": "3.9.12"
  }
 },
 "nbformat": 4,
 "nbformat_minor": 5
}
